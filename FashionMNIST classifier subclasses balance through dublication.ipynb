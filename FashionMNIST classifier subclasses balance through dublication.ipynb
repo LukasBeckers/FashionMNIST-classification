{
 "cells": [
  {
   "cell_type": "markdown",
   "metadata": {},
   "source": [
    "The first CNN we trained on the Fashion MNIST-Dataset got up to 91.3% accuracy.\n",
    "In this experiment we will try to improve the accuracy throug clustering the classes into subclasses and balancing this subclasses."
   ]
  },
  {
   "cell_type": "code",
   "execution_count": 2,
   "metadata": {},
   "outputs": [],
   "source": [
    "import torch\n",
    "import torchvision.transforms as tt\n",
    "import torchvision\n",
    "from torch.utils.data import Dataset, DataLoader\n",
    "from torch.utils.data import random_split"
   ]
  },
  {
   "cell_type": "markdown",
   "metadata": {},
   "source": [
    "At first we download the FashionMNIST-dataset and convert it to Pytroch-Tensors. The FashionMNIST-dataset consists of 60000 images in the train-set and 10000 images in the test-set.\n",
    "\n",
    "Many Datasets like CIFAR or FashionMNIST can be downloaded via torchvision. A list of all datasets avaiable with torchvision can be obtained here: https://pytorch.org/docs/stable/torchvision/datasets.html Other custome datasets have to be created form csv-files or other data-sources."
   ]
  },
  {
   "cell_type": "code",
   "execution_count": 3,
   "metadata": {},
   "outputs": [
    {
     "name": "stdout",
     "output_type": "stream",
     "text": [
      "Images in train-dataset: 60000\n",
      "Images in test-dataset: 10000\n"
     ]
    }
   ],
   "source": [
    "train_set = torchvision.datasets.FashionMNIST(\"./data\", download=True, train=True, transform=tt.Compose([tt.ToTensor()]))           \n",
    "                         \n",
    "test_set = torchvision.datasets.FashionMNIST(\"./data\", download=True, train=False, transform=\n",
    "                                              tt.Compose([tt.ToTensor()])) \n",
    "\n",
    "print('Images in train-dataset: {}\\nImages in test-dataset: {}'.format(len(train_set), len(test_set)))"
   ]
  },
  {
   "cell_type": "markdown",
   "metadata": {},
   "source": [
    "Now we will split the train-dataset into 10 sub-datasets by label."
   ]
  },
  {
   "cell_type": "code",
   "execution_count": 20,
   "metadata": {},
   "outputs": [],
   "source": [
    "# this class will be used to create sub-datasets with the data from the grouped datasets\n",
    "class sub_sets(Dataset):\n",
    "    def __init__(self, group):\n",
    "        self.data = group\n",
    "        self.n_datapoints = len(group)\n",
    "    \n",
    "    def __getitem__(self, index):\n",
    "        return self.data[index]\n",
    "    \n",
    "    def __len__(self):\n",
    "        return self.n_datapoints\n",
    "    \n",
    "\n",
    "# the group dataset function splits the dataset into 10 groups by label    \n",
    "def group_dataset(dataset):\n",
    "    images_grouped = [[],[],[],[],[],[],[],[],[],[]]\n",
    "    for data_point in dataset:\n",
    "        images_grouped[data_point[1]].append(data_point)\n",
    "    return images_grouped\n",
    "    \n",
    "groups = group_dataset(train_set)\n",
    "\n",
    "set0, set1, set2, set3, set4, set5, set6, set7, set8, set9 = [sub_sets(groups[x]) for x in range(10)]\n",
    "sets = [set0, set1, set2, set3, set4, set5, set6, set7, set8, set9]"
   ]
  },
  {
   "cell_type": "markdown",
   "metadata": {},
   "source": [
    "To confirm if the dataset is balanced or inbalanced, a histogram is created, which shows the number of images per class."
   ]
  },
  {
   "cell_type": "code",
   "execution_count": 26,
   "metadata": {},
   "outputs": [
    {
     "data": {
      "text/plain": [
       "Text(0, 0.5, 'images')"
      ]
     },
     "execution_count": 26,
     "metadata": {},
     "output_type": "execute_result"
    },
    {
     "data": {
      "image/png": "[encoded data removed]",
      "text/plain": [
       "<Figure size 432x288 with 1 Axes>"
      ]
     },
     "metadata": {
      "needs_background": "light"
     },
     "output_type": "display_data"
    }
   ],
   "source": [
    "import matplotlib.pyplot as plt\n",
    "\n",
    "fig, ax1 = plt.subplots()\n",
    "ax1.bar([a for a in range(10)], height=[len(ds) for ds in sets], label='number of images')\n",
    "plt.xticks([a for a in range(10)], [a for a in range(10)]) \n",
    "ax1.minorticks_on()\n",
    "ax1.grid(b='True', alpha=0.5, which='minor') \n",
    "ax1.grid(alpha=1) \n",
    "plt.title('images per class')\n",
    "ax1.set_xlabel('class')\n",
    "ax1.set_ylabel('images')"
   ]
  },
  {
   "cell_type": "markdown",
   "metadata": {},
   "source": [
    "As we can see: The dataset is compleatly balanced."
   ]
  }
 ],
 "metadata": {
  "kernelspec": {
   "display_name": "Python 3",
   "language": "python",
   "name": "python3"
  },
  "language_info": {
   "codemirror_mode": {
    "name": "ipython",
    "version": 3
   },
   "file_extension": ".py",
   "mimetype": "text/x-python",
   "name": "python",
   "nbconvert_exporter": "python",
   "pygments_lexer": "ipython3",
   "version": "3.8.5"
  }
 },
 "nbformat": 4,
 "nbformat_minor": 4
}
