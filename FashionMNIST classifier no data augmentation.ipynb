{
 "cells": [
  {
   "cell_type": "code",
   "execution_count": 5,
   "metadata": {},
   "outputs": [],
   "source": [
    "import torch\n",
    "import torchvision.transforms as tt\n",
    "import torchvision\n",
    "from torch.utils.data import Dataset, DataLoader\n",
    "from torch.utils.data import random_split"
   ]
  },
  {
   "cell_type": "markdown",
   "metadata": {},
   "source": [
    "At first we download the FashionMNIST-dataset and convert it to Pytroch-Tensors.\n",
    "The FashionMNIST-dataset consists of 60000 images in the train-set and 10000 images in the test-set.\n",
    "\n",
    "Many Datasets like CIFAR or FashionMNIST can be downloaded via torchvision. \n",
    "A list of all datasets avaiable with torchvision can be obtained here: https://pytorch.org/docs/stable/torchvision/datasets.html\n",
    "Other custome datasets have to be created form csv-files or other data-sources.  \n",
    "\n",
    "with the torchvision transforms module the data ca be augmented in various ways, like for example random crop or colourjitter. \n",
    "Data-augmentation can increase the accuracy of the classification significantly. \n",
    "For this experiment i refrain from all this methods, because it increases the computation needed for convergence. \n"
   ]
  },
  {
   "cell_type": "code",
   "execution_count": 11,
   "metadata": {},
   "outputs": [
    {
     "name": "stdout",
     "output_type": "stream",
     "text": [
      "Images in train-dataset: 60000\n",
      "Images in test-dataset: 10000\n"
     ]
    }
   ],
   "source": [
    "train_set = torchvision.datasets.FashionMNIST(\"./data\", download=True, train=True, transform=tt.Compose([tt.ToTensor()]))           \n",
    "                         \n",
    "test_set = torchvision.datasets.FashionMNIST(\"./data\", download=True, train=False, transform=\n",
    "                                              tt.Compose([tt.ToTensor()])) \n",
    "\n",
    "print('Images in train-dataset: {}\\nImages in test-dataset: {}'.format(len(train_set), len(test_set)))"
   ]
  },
  {
   "cell_type": "markdown",
   "metadata": {},
   "source": [
    "The test-dataset and the train-dataset are now converted to Pytorch-DataLoader objects.\n",
    "Pytorch-DataLoaders are Iterators, which shuffel the dataset and iterate over the data in batches of a discrete batch-size."
   ]
  },
  {
   "cell_type": "code",
   "execution_count": 13,
   "metadata": {},
   "outputs": [],
   "source": [
    "batch_size = 1000\n",
    "\n",
    "train_loader = [DataLoader(train_set, batch_size, shuffle=True, pin_memory=True)]                     \n",
    "test_loader = [DataLoader(test_set, batch_size, shuffle=True, pin_memory=True)]"
   ]
  },
  {
   "cell_type": "markdown",
   "metadata": {},
   "source": []
  },
  {
   "cell_type": "code",
   "execution_count": null,
   "metadata": {},
   "outputs": [],
   "source": []
  }
 ],
 "metadata": {
  "kernelspec": {
   "display_name": "Python 3",
   "language": "python",
   "name": "python3"
  },
  "language_info": {
   "codemirror_mode": {
    "name": "ipython",
    "version": 3
   },
   "file_extension": ".py",
   "mimetype": "text/x-python",
   "name": "python",
   "nbconvert_exporter": "python",
   "pygments_lexer": "ipython3",
   "version": "3.8.5"
  }
 },
 "nbformat": 4,
 "nbformat_minor": 4
}
